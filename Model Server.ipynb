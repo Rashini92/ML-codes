{
 "cells": [
  {
   "cell_type": "code",
   "execution_count": 2,
   "id": "e58940f9",
   "metadata": {},
   "outputs": [
    {
     "name": "stdout",
     "output_type": "stream",
     "text": [
      "RandomForestClassifier(max_depth=10, n_estimators=500, n_jobs=3, verbose=1)\n",
      " * Serving Flask app \"__main__\" (lazy loading)\n",
      " * Environment: production\n",
      "   WARNING: This is a development server. Do not use it in a production deployment.\n",
      "   Use a production WSGI server instead.\n",
      " * Debug mode: on\n"
     ]
    },
    {
     "name": "stderr",
     "output_type": "stream",
     "text": [
      " * Restarting with windowsapi reloader\n"
     ]
    },
    {
     "ename": "SystemExit",
     "evalue": "1",
     "output_type": "error",
     "traceback": [
      "An exception has occurred, use %tb to see the full traceback.\n",
      "\u001b[1;31mSystemExit\u001b[0m\u001b[1;31m:\u001b[0m 1\n"
     ]
    },
    {
     "name": "stderr",
     "output_type": "stream",
     "text": [
      "C:\\Users\\rwidlk\\Anaconda3\\lib\\site-packages\\IPython\\core\\interactiveshell.py:3445: UserWarning: To exit: use 'exit', 'quit', or Ctrl-D.\n",
      "  warn(\"To exit: use 'exit', 'quit', or Ctrl-D.\", stacklevel=1)\n"
     ]
    }
   ],
   "source": [
    "import numpy as np\n",
    "import pandas as pd\n",
    "\n",
    "# Classifier algorithms\n",
    "from sklearn.ensemble import RandomForestClassifier\n",
    "\n",
    "from flask import Flask, jsonify, request\n",
    "\n",
    "import joblib\n",
    "import json\n",
    "    \n",
    "def pre_processing(data):  \n",
    " \n",
    "    #fill null values\n",
    "    data['Gender'] = data[\"Gender\"].fillna(data['Gender'].mode()[0])\n",
    "    data['Married'] = data[\"Married\"].fillna(data['Married'].mode()[0])\n",
    "    data['Self_Employed'] = data[\"Self_Employed\"].fillna(data['Self_Employed'].mode()[0])\n",
    "    data['Dependents'] = data[\"Dependents\"].fillna(data['Dependents'].mode()[0])\n",
    "    data['Credit_History'] = data[\"Credit_History\"].fillna(data['Credit_History'].mode()[0])\n",
    "    data['LoanAmount'] = data[\"LoanAmount\"].fillna(data['LoanAmount'].median()).astype(int)\n",
    "    data['Loan_Amount_Term'] = data[\"Loan_Amount_Term\"].fillna(data['Loan_Amount_Term'].mode()[0]).astype(int)\n",
    "\n",
    "    #rename the variabeles with binary values\n",
    "    data['is_male'] = np.where(data[\"Gender\"]=='Male',1,0)\n",
    "    data['is_Married'] = np.where(data[\"Married\"]=='Yes',1,0)\n",
    "    data['is_Self_Employed'] = np.where(data[\"Self_Employed\"]=='Yes',1,0)\n",
    "    data['Credit_History_availability'] = np.where(data[\"Credit_History\"]==1.0,1,0)\n",
    "    data['is_graduate'] = np.where(data[\"Education\"]=='Graduate',1,0)\n",
    "    \n",
    "    labels = ['<90', '90-180', '180-360', '>360']\n",
    "    bin_edges = [0, 90, 180, 360, np.inf]\n",
    "\n",
    "    data['Loan_Amount_Term_grp'] = pd.cut(x=data['Loan_Amount_Term'], bins=bin_edges, labels=labels)\n",
    "    data['Loan_Amount_Term_grp'].value_counts()\n",
    "    \n",
    "    #get dummies\n",
    "    data = data.join(pd.get_dummies(data['Loan_Amount_Term_grp'], prefix='Loan_Term'))\n",
    "    data = data.join(pd.get_dummies(data['Property_Area'], prefix='Property_Area'))\n",
    "    data = data.join(pd.get_dummies(data['Dependents'], prefix='Dependents'))\n",
    "\n",
    "    # Select Columns\n",
    "    X_variables = ['ApplicantIncome', 'CoapplicantIncome', 'LoanAmount', 'is_Married',\n",
    "                   'Credit_History_availability', 'is_graduate','Loan_Term_180-360','Loan_Term_>360', 'Property_Area_Rural',\n",
    "                   'Property_Area_Semiurban', 'Dependents_2']\n",
    "        \n",
    "    # Assign 0 to missing columns\n",
    "    for x in list(set(X_variables) - set(data.columns)):\n",
    "        data[x] = 0\n",
    "\n",
    "    return data[X_variables]\n",
    "\n",
    "def post_processing(prediction):\n",
    "    if len(prediction)==1:\n",
    "        return prediction[:, 1][0]\n",
    "    else:\n",
    "        return prediction[:, 1]\n",
    "\n",
    "def app_prediction_function(input_data, model):\n",
    "    return post_processing(model.predict_proba(pre_processing(input_data), model=model))\n",
    "\n",
    "app = Flask(__name__)\n",
    "\n",
    "# Load model\n",
    "model_file = 'model_rf.pickle'\n",
    "model = joblib.load(model_file)\n",
    "print(model)\n",
    "\n",
    "@app.route(\"/\")\n",
    "def index():\n",
    "    return \"Greetings from Prediction API\"\n",
    "\n",
    "@app.route(\"/classifier\", methods=['POST'])\n",
    "def classifier():\n",
    "    if request.method == 'POST': \n",
    "        input_data =  request.form.to_dict()\n",
    "        print(input_data)\n",
    "        print(type(input_data))\n",
    "        input_data = pd.DataFrame([input_data])\n",
    "        print(input_data)\n",
    "        prediction = app_prediction_function(input_data, model)\n",
    "        return jsonify({'prediction': prediction})  \n",
    "        \n",
    "if __name__ == '__main__':\n",
    "    app.run(debug=True, port=5001)"
   ]
  },
  {
   "cell_type": "code",
   "execution_count": null,
   "id": "b5f5d1db",
   "metadata": {},
   "outputs": [],
   "source": []
  }
 ],
 "metadata": {
  "kernelspec": {
   "display_name": "Python 3",
   "language": "python",
   "name": "python3"
  },
  "language_info": {
   "codemirror_mode": {
    "name": "ipython",
    "version": 3
   },
   "file_extension": ".py",
   "mimetype": "text/x-python",
   "name": "python",
   "nbconvert_exporter": "python",
   "pygments_lexer": "ipython3",
   "version": "3.8.8"
  }
 },
 "nbformat": 4,
 "nbformat_minor": 5
}
